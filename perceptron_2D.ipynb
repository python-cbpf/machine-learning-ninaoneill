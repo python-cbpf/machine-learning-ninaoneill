{
 "cells": [
  {
   "cell_type": "code",
   "execution_count": 1,
   "metadata": {},
   "outputs": [
    {
     "name": "stdout",
     "output_type": "stream",
     "text": [
      "[-50.022837475918294, 49.92685981079897]\n",
      "I learned the thing\n"
     ]
    },
    {
     "data": {
      "image/png": "[encoded data removed]",
      "text/plain": [
       "<Figure size 432x288 with 1 Axes>"
      ]
     },
     "metadata": {
      "needs_background": "light"
     },
     "output_type": "display_data"
    }
   ],
   "source": [
    "import numpy as np\n",
    "import matplotlib.pyplot as plt\n",
    "import csv\n",
    "import math\n",
    "%matplotlib inline\n",
    "\n",
    "# READ THE FILE AND GENERATE INPUT AND OUTPUT LISTS #\n",
    "\n",
    "inputs=[]\n",
    "o=[]\n",
    "\n",
    "with open('pseudo_data_square.csv', newline='') as f:\n",
    "    reader=csv.reader(f, delimiter='\\t')\n",
    "    for line in reader:\n",
    "        temp_input=[float(line[0]),float(line[1])]\n",
    "        inputs.append(temp_input)\n",
    "        o.append(float(line[2]))\n",
    "        \n",
    "        \n",
    "# INITIAL CONDITIONS #\n",
    "\n",
    "weights = [0.5,0.5]\n",
    "i=0\n",
    "errvars=[]\n",
    "errs=[]\n",
    "errsum=0\n",
    "errsums=[]\n",
    "steps=range(3000)\n",
    "numtrain=int(len(inputs)/2)\n",
    "\n",
    "# DEFINE USEFUL FUNCTIONS #\n",
    "\n",
    "def sigmoid(x):\n",
    "    return 1 / (1 + math.exp(-x))\n",
    "\n",
    "def errvar(x):\n",
    "    return (o[i]-p)*sigmoid(inputsum)*(1-sigmoid(inputsum))*x\n",
    "\n",
    "# EXECUTE TRAINING #\n",
    "\n",
    "for y in steps:\n",
    "    \n",
    "    for i in range(numtrain):\n",
    "        this_input=inputs[i]\n",
    "        inputsum = np.dot(this_input,(weights))\n",
    "        p=sigmoid(inputsum)\n",
    "        err=0.5*(p-o[i])**2\n",
    "        errs.append(err)\n",
    "        \n",
    "        for n in range(len(weights)):\n",
    "            var=errvar(this_input[n])\n",
    "            weights[n]=weights[n]+var*this_input[n]\n",
    "\n",
    "num=int(len(errs)/numtrain)\n",
    "\n",
    "for z in range(num):\n",
    "    k=4*z\n",
    "    errsum=sum(errs[k:k+numtrain])\n",
    "    errsums.append(errsum)\n",
    "            \n",
    "print(weights)\n",
    "\n",
    "fig = plt.figure()\n",
    "ax = fig.add_axes([0.1, 0.2, 0.8, 0.9])\n",
    "ax.plot(steps,errsums)\n",
    "ax.set_xlabel('number of steps')\n",
    "ax.set_ylabel('sum of errors')\n",
    "ax.set_title('Sum of errors by number of steps')\n",
    "\n",
    "\n",
    "print(\"I learned the thing\")"
   ]
  },
  {
   "cell_type": "code",
   "execution_count": 2,
   "metadata": {},
   "outputs": [
    {
     "data": {
      "text/plain": [
       "(array([  0.,   2.,   1.,   3.,   1.,   4.,   3.,   1.,   0.,   0., 225.,\n",
       "          0.,   1.,   2.,   3.,   0.,   0.,   1.,   2.,   1.]),\n",
       " array([-0.5 , -0.45, -0.4 , -0.35, -0.3 , -0.25, -0.2 , -0.15, -0.1 ,\n",
       "        -0.05,  0.  ,  0.05,  0.1 ,  0.15,  0.2 ,  0.25,  0.3 ,  0.35,\n",
       "         0.4 ,  0.45,  0.5 ]),\n",
       " <a list of 20 Patch objects>)"
      ]
     },
     "execution_count": 2,
     "metadata": {},
     "output_type": "execute_result"
    },
    {
     "data": {
      "image/png": "[encoded data removed]",
      "text/plain": [
       "<Figure size 432x288 with 1 Axes>"
      ]
     },
     "metadata": {
      "needs_background": "light"
     },
     "output_type": "display_data"
    }
   ],
   "source": [
    "new_outputs=[]\n",
    "predictions=[]\n",
    "prediction_error=[]\n",
    "\n",
    "for i in range(numtrain,len(inputs)):\n",
    "    this_input=inputs[i]\n",
    "    inputsum = np.dot(this_input,(weights))\n",
    "    p=sigmoid(inputsum)\n",
    "    new_outputs.append(p)\n",
    "    \n",
    "    \n",
    "for z in new_outputs:\n",
    "    if z<0.1:\n",
    "        z=0\n",
    "    elif z>0.9:\n",
    "        z=1\n",
    "    predictions.append(z)\n",
    "    \n",
    "for n in range(len(predictions)):\n",
    "    this_prediction_error=o[numtrain+n]-predictions[n]\n",
    "    prediction_error.append(this_prediction_error)\n",
    "\n",
    "plt.hist(prediction_error, bins=20, range=(-0.5,0.5))"
   ]
  },
  {
   "cell_type": "code",
   "execution_count": 3,
   "metadata": {},
   "outputs": [
    {
     "data": {
      "text/plain": [
       "(array([  0.,   2.,   1.,   3.,   1.,   4.,   3.,   1.,   8., 104., 111.,\n",
       "          2.,   1.,   2.,   3.,   0.,   0.,   1.,   2.,   1.]),\n",
       " array([-0.5 , -0.45, -0.4 , -0.35, -0.3 , -0.25, -0.2 , -0.15, -0.1 ,\n",
       "        -0.05,  0.  ,  0.05,  0.1 ,  0.15,  0.2 ,  0.25,  0.3 ,  0.35,\n",
       "         0.4 ,  0.45,  0.5 ]),\n",
       " <a list of 20 Patch objects>)"
      ]
     },
     "execution_count": 3,
     "metadata": {},
     "output_type": "execute_result"
    },
    {
     "data": {
      "image/png": "[encoded data removed]",
      "text/plain": [
       "<Figure size 432x288 with 1 Axes>"
      ]
     },
     "metadata": {
      "needs_background": "light"
     },
     "output_type": "display_data"
    }
   ],
   "source": [
    "new_outputs=[]\n",
    "prediction_error=[]\n",
    "\n",
    "for i in range(numtrain,len(inputs)):\n",
    "    this_input=inputs[i]\n",
    "    inputsum = np.dot(this_input,(weights))\n",
    "    p=sigmoid(inputsum)\n",
    "    new_outputs.append(p)\n",
    "    \n",
    "for n in range(len(new_outputs)):\n",
    "    this_prediction_error=o[numtrain+n]-new_outputs[n]\n",
    "    prediction_error.append(this_prediction_error)\n",
    "\n",
    "plt.hist(prediction_error, bins=20, range=(-0.5,0.5))"
   ]
  },
  {
   "cell_type": "code",
   "execution_count": null,
   "metadata": {},
   "outputs": [],
   "source": []
  }
 ],
 "metadata": {
  "kernelspec": {
   "display_name": "Python 3",
   "language": "python",
   "name": "python3"
  },
  "language_info": {
   "codemirror_mode": {
    "name": "ipython",
    "version": 3
   },
   "file_extension": ".py",
   "mimetype": "text/x-python",
   "name": "python",
   "nbconvert_exporter": "python",
   "pygments_lexer": "ipython3",
   "version": "3.7.3"
  }
 },
 "nbformat": 4,
 "nbformat_minor": 4
}
