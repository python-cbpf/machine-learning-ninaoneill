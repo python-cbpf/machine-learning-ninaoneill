{
 "cells": [
  {
   "cell_type": "code",
   "execution_count": 6,
   "metadata": {},
   "outputs": [
    {
     "name": "stdin",
     "output_type": "stream",
     "text": [
      " 110\n"
     ]
    },
    {
     "data": {
      "image/png": "[encoded data removed]",
      "text/plain": [
       "<Figure size 432x288 with 1 Axes>"
      ]
     },
     "metadata": {
      "needs_background": "light"
     },
     "output_type": "display_data"
    }
   ],
   "source": [
    "import numpy as np\n",
    "import pandas\n",
    "import matplotlib.pyplot as plt\n",
    "\n",
    "# ASK USER FOR RULE NUMBER AND NUMBER OF STEPS #\n",
    "\n",
    "rule_number = int(input())\n",
    "\n",
    "# GENERATES THE RULE #\n",
    "\n",
    "rule = np.binary_repr(rule_number,8)\n",
    "rule_list = [int(x) for x in str(rule)]\n",
    "pattern = [[1,1,1],[1,1,0],[1,0,1],[1,0,0],[0,1,1],[0,1,0],[0,0,1],[0,0,0]]\n",
    "\n",
    "# INITIAL CONDITIONS #\n",
    "\n",
    "initial_state=[0,0,0,0,0,0,0,0,0,0,0,0,0,0,0,0,0,0,0,0,0,0,0,0,0,0,1,0,0,0,0,0,0,0,0,0,0,0,0,0,0,0,0,0,0,0,0,0,0,0,0,0,0,0] # initial state\n",
    "state=[]\n",
    "states=[[0,0,0,0,0,0,0,0,0,0,0,0,0,0,0,0,0,0,0,0,0,0,0,0,0,0,1,0,0,0,0,0,0,0,0,0,0,0,0,0,0,0,0,0,0,0,0,0,0,0,0,0,0,0]]\n",
    "num=len(initial_state)+1\n",
    "steps=40\n",
    "\n",
    "# INSERTING BOUNDARY CONDITIONS #\n",
    "\n",
    "prev_state=initial_state\n",
    "prev_state.append(0)\n",
    "prev_state.insert(0,0)\n",
    "\n",
    "# APPLYING THE EVOLUTION #\n",
    "\n",
    "for n in range(steps):\n",
    "    for i in range(1,num):\n",
    "        neighbors=[prev_state[i-1],prev_state[i],prev_state[i+1]]\n",
    "        for z in range(len(pattern)):\n",
    "            if neighbors==pattern[z]:\n",
    "                state.append(rule_list[z])\n",
    "    states.append(state)\n",
    "    prev_state=state.copy()\n",
    "    state=[]\n",
    "    if len(prev_state)<num:\n",
    "        prev_state.insert(0,0)\n",
    "        prev_state.append(0)\n",
    "                \n",
    "    \n",
    "# DRAWING THE FIGURE #\n",
    "\n",
    "imagem=plt.imshow(states, cmap='gray')\n"
   ]
  },
  {
   "cell_type": "raw",
   "metadata": {},
   "source": []
  },
  {
   "cell_type": "code",
   "execution_count": null,
   "metadata": {},
   "outputs": [],
   "source": []
  },
  {
   "cell_type": "code",
   "execution_count": null,
   "metadata": {},
   "outputs": [],
   "source": []
  }
 ],
 "metadata": {
  "kernelspec": {
   "display_name": "Python 3",
   "language": "python",
   "name": "python3"
  },
  "language_info": {
   "codemirror_mode": {
    "name": "ipython",
    "version": 3
   },
   "file_extension": ".py",
   "mimetype": "text/x-python",
   "name": "python",
   "nbconvert_exporter": "python",
   "pygments_lexer": "ipython3",
   "version": "3.7.3"
  }
 },
 "nbformat": 4,
 "nbformat_minor": 4
}
