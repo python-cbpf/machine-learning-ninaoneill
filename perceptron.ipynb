{
 "cells": [
  {
   "cell_type": "code",
   "execution_count": 5,
   "metadata": {},
   "outputs": [
    {
     "name": "stdout",
     "output_type": "stream",
     "text": [
      "[10.00009781464552, -0.8271709367627648, -2.5859709301647054]\n"
     ]
    },
    {
     "data": {
      "image/png": "[encoded data removed]",
      "text/plain": [
       "<Figure size 432x288 with 1 Axes>"
      ]
     },
     "metadata": {
      "needs_background": "light"
     },
     "output_type": "display_data"
    },
    {
     "name": "stdout",
     "output_type": "stream",
     "text": [
      "I learned the thing\n",
      "[0.2348823293793627, 0.17098872072917742, 0.12858017423667537, 0.10046809571529286, 0.0812348147499799, 0.06755496215317464, 0.05746368987862149, 0.049780219001627164, 0.043770925350960596, 0.03896327637264741, 0.03504234441808035, 0.03179166455636369, 0.02905831498465996, 0.026731614110024865, 0.024729717936364266, 0.022990945836645425, 0.021468020303659498, 0.02012415167773242, 0.01893032026564934, 0.017863353305895266, 0.01690454054042476, 0.0160386216852578, 0.01525303514571047, 0.014537353162887779, 0.013882851945152371, 0.013282180849370225, 0.012729105145811662, 0.012218304076463344, 0.011745210906083822, 0.011305885181278383, 0.010896909921383712, 0.01051530827559418, 0.010158475501950717, 0.009824123097725882, 0.009510232635554625, 0.009215017403966158, 0.008936890363201827, 0.008674437241914284, 0.008426393842426525, 0.008191626809785269, 0.007969117266141027, 0.00775794682684176, 0.007557285605348275, 0.007366381886157568, 0.007184553202504683, 0.007011178601862332, 0.006845691919590566, 0.006687575911369818, 0.006536357119726259, 0.006391601370154515, 0.006252909808942924, 0.006119915408506746, 0.005992279877385355, 0.005869690921498814, 0.005751859811137789, 0.005638519214758791, 0.005529421266201545, 0.005424335836619153, 0.005323048986364607, 0.005225361575429291, 0.00513108801388104, 0.0050400551361813725, 0.004952101185341961, 0.004867074894664341, 0.004784834656340297, 0.00470524776751196, 0.004628189745532282, 0.004553543705154807, 0.004481199791239294, 0.004411054661305477, 0.004343011012917084, 0.004276977151445599, 0.0042128665942596805, 0.004150597707821285, 0.004090093374551606, 0.004031280686666171, 0.003974090664474679, 0.003918457996902728, 0.00386432080222386, 0.0038116204071952458, 0.0037603011429720697, 0.003710310156337118, 0.003661597234925801, 0.003614114645254877, 0.003567816982477369, 0.0035226610308883837, 0.0034786056342978053, 0.003435611575467784, 0.0033936414638864112, 0.003352659631214932, 0.0033126320338052353, 0.003273526161737809, 0.0032353109538785637, 0.0031979567184964304, 0.0031614350590228996, 0.0031257188045703587, 0.003090781944858157, 0.0030565995692246723, 0.003023147809430012, 0.002990403785978194]\n"
     ]
    }
   ],
   "source": [
    "import numpy as np\n",
    "import math\n",
    "import matplotlib.pyplot as plt\n",
    "\n",
    "# INITIAL CONDITIONS #\n",
    "\n",
    "inputs = [[0, 0, 1],[1, 1, 1],[1, 0, 1],[0, 1, 1]]\n",
    "weights = [10,0,0]\n",
    "o = [0, 1, 1, 0]\n",
    "i=0\n",
    "errvars=[]\n",
    "errs=[]\n",
    "errsum=0\n",
    "errsums=[]\n",
    "steps=range(100)\n",
    "\n",
    "# DEFINING FUNCTIONS #\n",
    "\n",
    "def sigmoid(x):\n",
    "    return 1 / (1 + math.exp(-x))\n",
    "\n",
    "def errvar(x):\n",
    "    return (o[i]-p)*sigmoid(inputsum)*(1-sigmoid(inputsum))*x\n",
    "\n",
    "# EXECUTING TRAINING #\n",
    "\n",
    "for y in steps:\n",
    "    \n",
    "    for i in range(4):\n",
    "        this_input=inputs[i]\n",
    "        inputsum = np.dot(this_input,(weights))\n",
    "        p=sigmoid(inputsum)\n",
    "        err=0.5*(p-o[i])**2\n",
    "        errs.append(err)\n",
    "        \n",
    "        for n in range(3):\n",
    "            var=errvar(this_input[n])\n",
    "            weights[n]=weights[n]+var*this_input[n]\n",
    "\n",
    "            \n",
    "num=int(len(errs)/4)\n",
    "\n",
    "for z in range(num):\n",
    "    k=4*z\n",
    "    errsum=sum(errs[k:k+4])\n",
    "    errsums.append(errsum)\n",
    "            \n",
    "print(weights)\n",
    "\n",
    "plt.plot(steps,errsums)\n",
    "plt.show()\n",
    "\n",
    "print(\"I learned the thing\")\n",
    "print(errsums)"
   ]
  },
  {
   "cell_type": "code",
   "execution_count": 4,
   "metadata": {},
   "outputs": [
    {
     "name": "stdout",
     "output_type": "stream",
     "text": [
      "Check out my predictions:\n",
      "[0.9998961985569085, 0.30424359280157726, 0.5, 0.9999546065714552]\n"
     ]
    }
   ],
   "source": [
    "new_inputs=[[1, 1, 0],[0, 1, 0],[0, 0, 0],[1, 0, 0]]\n",
    "new_outputs=[]\n",
    "\n",
    "for i in range(4):\n",
    "    this_input=new_inputs[i]\n",
    "    inputsum = np.dot(this_input,(weights))\n",
    "    p=sigmoid(inputsum)\n",
    "    new_outputs.append(p)\n",
    "    \n",
    "print(\"Check out my predictions:\")\n",
    "print(new_outputs)"
   ]
  },
  {
   "cell_type": "code",
   "execution_count": null,
   "metadata": {},
   "outputs": [],
   "source": []
  }
 ],
 "metadata": {
  "kernelspec": {
   "display_name": "Python 3",
   "language": "python",
   "name": "python3"
  },
  "language_info": {
   "codemirror_mode": {
    "name": "ipython",
    "version": 3
   },
   "file_extension": ".py",
   "mimetype": "text/x-python",
   "name": "python",
   "nbconvert_exporter": "python",
   "pygments_lexer": "ipython3",
   "version": "3.7.3"
  }
 },
 "nbformat": 4,
 "nbformat_minor": 4
}
