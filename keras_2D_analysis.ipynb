{
 "cells": [
  {
   "cell_type": "code",
   "execution_count": 58,
   "metadata": {},
   "outputs": [
    {
     "data": {
      "text/plain": [
       "<keras.callbacks.callbacks.History at 0x26e215798d0>"
      ]
     },
     "execution_count": 58,
     "metadata": {},
     "output_type": "execute_result"
    }
   ],
   "source": [
    "import keras\n",
    "from keras.models import Sequential\n",
    "from keras.layers import Dense, Dropout\n",
    "from keras.optimizers import RMSprop\n",
    "import numpy as np\n",
    "import matplotlib.pyplot as plt\n",
    "import csv\n",
    "import math\n",
    "%matplotlib inline\n",
    "\n",
    "# READ THE FILE AND GENERATE INPUT AND OUTPUT ARRAYS #\n",
    "\n",
    "inputs=[]\n",
    "o=[]\n",
    "\n",
    "with open('pseudo_data_square.csv', newline='') as f:\n",
    "    reader=csv.reader(f, delimiter='\\t')\n",
    "    for line in reader:\n",
    "        temp_input=[float(line[0]),float(line[1])]\n",
    "        inputs.append(temp_input)\n",
    "        o.append(float(line[2]))\n",
    "\n",
    "x_train=np.array(inputs[0:250])\n",
    "y_train=np.array(o[0:250])\n",
    "\n",
    "model = Sequential()\n",
    "model.add(Dense(1, activation='sigmoid', use_bias=True, input_dim=2))\n",
    "model.compile(optimizer='rmsprop', loss='binary_crossentropy', metrics=['accuracy'])\n",
    "model.fit(x_train, y_train, epochs=3000, batch_size=32, verbose=0)"
   ]
  },
  {
   "cell_type": "code",
   "execution_count": 59,
   "metadata": {},
   "outputs": [
    {
     "name": "stdout",
     "output_type": "stream",
     "text": [
      "250/250 [==============================] - 0s 389us/step\n",
      "[0.034330293774604795, 0.9959999918937683]\n"
     ]
    },
    {
     "data": {
      "image/png": "[encoded data removed]",
      "text/plain": [
       "<Figure size 432x288 with 1 Axes>"
      ]
     },
     "metadata": {
      "needs_background": "light"
     },
     "output_type": "display_data"
    }
   ],
   "source": [
    "x_test= np.array(inputs[250:500])\n",
    "expected= np.array(o[250:500])\n",
    "\n",
    "classes = model.predict(x_test, batch_size=32)\n",
    "\n",
    "evaluation = model.evaluate(x_test, expected, batch_size=32)\n",
    "print(evaluation)\n",
    "\n",
    "for n in range(len(expected)):\n",
    "    prediction_error[n]=0.5*(expected[n]-classes[n])**2\n",
    "\n",
    "plt.hist(prediction_error, range=(0,0.2))\n",
    "plt.show()"
   ]
  },
  {
   "cell_type": "code",
   "execution_count": null,
   "metadata": {},
   "outputs": [],
   "source": []
  },
  {
   "cell_type": "code",
   "execution_count": null,
   "metadata": {},
   "outputs": [],
   "source": []
  },
  {
   "cell_type": "code",
   "execution_count": null,
   "metadata": {},
   "outputs": [],
   "source": []
  }
 ],
 "metadata": {
  "kernelspec": {
   "display_name": "Python 3",
   "language": "python",
   "name": "python3"
  },
  "language_info": {
   "codemirror_mode": {
    "name": "ipython",
    "version": 3
   },
   "file_extension": ".py",
   "mimetype": "text/x-python",
   "name": "python",
   "nbconvert_exporter": "python",
   "pygments_lexer": "ipython3",
   "version": "3.7.3"
  }
 },
 "nbformat": 4,
 "nbformat_minor": 4
}
